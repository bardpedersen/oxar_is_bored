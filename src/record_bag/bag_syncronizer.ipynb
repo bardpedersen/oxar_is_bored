{
 "cells": [
  {
   "cell_type": "code",
   "execution_count": 79,
   "metadata": {},
   "outputs": [],
   "source": [
    "import pandas as pd\n",
    "import rosbag\n",
    "import rospy"
   ]
  },
  {
   "cell_type": "code",
   "execution_count": 81,
   "metadata": {},
   "outputs": [
    {
     "name": "stdout",
     "output_type": "stream",
     "text": [
      "Mean time difference: 74.12775355379179 seconds\n"
     ]
    }
   ],
   "source": [
    "bag_path = \"/home/stein/bagfiles/clock_always_on/test_right.bag\"\n",
    "topics_of_interest = ['/clock_sync']\n",
    "\n",
    "bag = rosbag.Bag(bag_path)\n",
    "messages = bag.read_messages(topics=topics_of_interest)\n",
    "\n",
    "data_dict = {'index_time': [], 'common_time': []}\n",
    "\n",
    "for topic, msg, t in messages:\n",
    "    index_time = pd.Timestamp(t.to_sec(), unit='s')\n",
    "    common_time = pd.Timestamp(msg.clock.secs + msg.clock.nsecs * 1e-9, unit='s')\n",
    "    # print(index_time)\n",
    "    # print(common_time)\n",
    "    \n",
    "    data_dict['index_time'].append(index_time)\n",
    "    data_dict['common_time'].append(common_time)\n",
    "    \n",
    "\n",
    "df = pd.DataFrame(data_dict)\n",
    "df['time_difference_seconds'] = (df['index_time'] - df['common_time']).dt.total_seconds()\n",
    "mean_time_difference = df['time_difference_seconds'].mean()\n",
    "print(f\"Mean time difference: {mean_time_difference} seconds\")"
   ]
  },
  {
   "cell_type": "code",
   "execution_count": 82,
   "metadata": {},
   "outputs": [],
   "source": [
    "new_bag_path = \"/home/stein/bagfiles/clock_always_on/right.bag\"\n",
    "\n",
    "with rosbag.Bag(new_bag_path, 'w') as new_bag:\n",
    "    for topic, msg, timestamp in bag:\n",
    "        modified_timestamp = timestamp - rospy.Duration.from_sec(mean_time_difference)\n",
    "        new_bag.write(topic, msg, modified_timestamp)\n"
   ]
  }
 ],
 "metadata": {
  "kernelspec": {
   "display_name": "Python 3",
   "language": "python",
   "name": "python3"
  },
  "language_info": {
   "codemirror_mode": {
    "name": "ipython",
    "version": 3
   },
   "file_extension": ".py",
   "mimetype": "text/x-python",
   "name": "python",
   "nbconvert_exporter": "python",
   "pygments_lexer": "ipython3",
   "version": "3.8.10"
  },
  "orig_nbformat": 4
 },
 "nbformat": 4,
 "nbformat_minor": 2
}
